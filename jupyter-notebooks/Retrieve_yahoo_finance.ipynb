{
 "cells": [
  {
   "cell_type": "code",
   "execution_count": 1,
   "metadata": {
    "pycharm": {
     "name": "#%%\n"
    }
   },
   "outputs": [],
   "source": [
    "# Importing the necessary package \n",
    "import yfinance "
   ]
  },
  {
   "cell_type": "code",
   "execution_count": 2,
   "metadata": {
    "pycharm": {
     "name": "#%%\n"
    }
   },
   "outputs": [],
   "source": [
    "# Ignoring warning messages\n",
    "import warnings \n",
    "warnings.filterwarnings(\"ignore\")"
   ]
  },
  {
   "cell_type": "code",
   "execution_count": 21,
   "metadata": {
    "pycharm": {
     "name": "#%%\n"
    }
   },
   "outputs": [
    {
     "name": "stdout",
     "output_type": "stream",
     "text": [
      "[*********************100%***********************]  1 of 1 completed\n"
     ]
    }
   ],
   "source": [
    "# Using the .download() method to get our data\n",
    "#\n",
    "# tickers -> The time series we are interested in - (in our case, these are the S&P, FTSE, NIKKEI and DAX)\n",
    "# start -> The starting date of our data set\n",
    "# end -> The ending date of our data set (at the time of upload, this is the current date)\n",
    "# interval -> The distance in time between two recorded observations. Since we're using daily closing prices, we set it equal to \"1d\", which indicates 1 day. \n",
    "# group_by -> The way we want to group the scraped data. Usually we want it to be \"ticker\", so that we have all the information about a time series in 1 variable.\n",
    "# auto_adjust -> Automatically adjust the closing prices for each period. \n",
    "# treads - > Whether to use threads for mass downloading. \n",
    "\n",
    "raw_data = yfinance.download (tickers = \"^IXIC\", start = \"2016-01-01\", end = \"2022-04-19\", interval = \"1d\", group_by = 'ticker', auto_adjust = True, treads = True)\n"
   ]
  },
  {
   "cell_type": "code",
   "execution_count": 22,
   "metadata": {
    "pycharm": {
     "name": "#%%\n"
    }
   },
   "outputs": [],
   "source": [
    "# Creating a back up copy in case we remove/alter elements of the data by mistake\n",
    "df_comp = raw_data.copy()"
   ]
  },
  {
   "cell_type": "code",
   "execution_count": 23,
   "metadata": {
    "pycharm": {
     "name": "#%%\n"
    }
   },
   "outputs": [
    {
     "data": {
      "text/html": [
       "<div>\n",
       "<style scoped>\n",
       "    .dataframe tbody tr th:only-of-type {\n",
       "        vertical-align: middle;\n",
       "    }\n",
       "\n",
       "    .dataframe tbody tr th {\n",
       "        vertical-align: top;\n",
       "    }\n",
       "\n",
       "    .dataframe thead th {\n",
       "        text-align: right;\n",
       "    }\n",
       "</style>\n",
       "<table border=\"1\" class=\"dataframe\">\n",
       "  <thead>\n",
       "    <tr style=\"text-align: right;\">\n",
       "      <th></th>\n",
       "      <th>Open</th>\n",
       "      <th>High</th>\n",
       "      <th>Low</th>\n",
       "      <th>Close</th>\n",
       "      <th>Volume</th>\n",
       "    </tr>\n",
       "    <tr>\n",
       "      <th>Date</th>\n",
       "      <th></th>\n",
       "      <th></th>\n",
       "      <th></th>\n",
       "      <th></th>\n",
       "      <th></th>\n",
       "    </tr>\n",
       "  </thead>\n",
       "  <tbody>\n",
       "    <tr>\n",
       "      <th>2016-01-04</th>\n",
       "      <td>4897.649902</td>\n",
       "      <td>4903.089844</td>\n",
       "      <td>4846.979980</td>\n",
       "      <td>4903.089844</td>\n",
       "      <td>2218420000</td>\n",
       "    </tr>\n",
       "    <tr>\n",
       "      <th>2016-01-05</th>\n",
       "      <td>4917.839844</td>\n",
       "      <td>4926.729980</td>\n",
       "      <td>4872.740234</td>\n",
       "      <td>4891.430176</td>\n",
       "      <td>1927380000</td>\n",
       "    </tr>\n",
       "    <tr>\n",
       "      <th>2016-01-06</th>\n",
       "      <td>4813.759766</td>\n",
       "      <td>4866.040039</td>\n",
       "      <td>4804.689941</td>\n",
       "      <td>4835.759766</td>\n",
       "      <td>2168620000</td>\n",
       "    </tr>\n",
       "    <tr>\n",
       "      <th>2016-01-07</th>\n",
       "      <td>4736.399902</td>\n",
       "      <td>4788.020020</td>\n",
       "      <td>4688.169922</td>\n",
       "      <td>4689.430176</td>\n",
       "      <td>2552590000</td>\n",
       "    </tr>\n",
       "    <tr>\n",
       "      <th>2016-01-08</th>\n",
       "      <td>4722.020020</td>\n",
       "      <td>4742.569824</td>\n",
       "      <td>4637.850098</td>\n",
       "      <td>4643.629883</td>\n",
       "      <td>2288750000</td>\n",
       "    </tr>\n",
       "  </tbody>\n",
       "</table>\n",
       "</div>"
      ],
      "text/plain": [
       "                   Open         High          Low        Close      Volume\n",
       "Date                                                                      \n",
       "2016-01-04  4897.649902  4903.089844  4846.979980  4903.089844  2218420000\n",
       "2016-01-05  4917.839844  4926.729980  4872.740234  4891.430176  1927380000\n",
       "2016-01-06  4813.759766  4866.040039  4804.689941  4835.759766  2168620000\n",
       "2016-01-07  4736.399902  4788.020020  4688.169922  4689.430176  2552590000\n",
       "2016-01-08  4722.020020  4742.569824  4637.850098  4643.629883  2288750000"
      ]
     },
     "execution_count": 23,
     "metadata": {},
     "output_type": "execute_result"
    }
   ],
   "source": [
    "df_comp.head()"
   ]
  },
  {
   "cell_type": "code",
   "execution_count": 24,
   "metadata": {
    "scrolled": true,
    "pycharm": {
     "name": "#%%\n"
    }
   },
   "outputs": [],
   "source": [
    "# Removing the first elements, since we always start 1 period before the first, due to time zone differences of closing prices\n",
    "df_comp = df_comp.iloc[1:]"
   ]
  },
  {
   "cell_type": "code",
   "execution_count": 25,
   "metadata": {
    "pycharm": {
     "name": "#%%\n"
    }
   },
   "outputs": [],
   "source": [
    "df_comp=df_comp.asfreq('b') # Setting the frequency of the data\n",
    "df_comp=df_comp.fillna(method='ffill') # Filling any missing values"
   ]
  },
  {
   "cell_type": "code",
   "execution_count": 26,
   "metadata": {
    "pycharm": {
     "name": "#%%\n"
    }
   },
   "outputs": [
    {
     "name": "stdout",
     "output_type": "stream",
     "text": [
      "                   Open         High          Low        Close        Volume\n",
      "Date                                                                        \n",
      "2016-01-05  4917.839844  4926.729980  4872.740234  4891.430176  1.927380e+09\n",
      "2016-01-06  4813.759766  4866.040039  4804.689941  4835.759766  2.168620e+09\n",
      "2016-01-07  4736.399902  4788.020020  4688.169922  4689.430176  2.552590e+09\n",
      "2016-01-08  4722.020020  4742.569824  4637.850098  4643.629883  2.288750e+09\n",
      "2016-01-11  4673.439941  4683.020020  4573.779785  4637.990234  2.391110e+09\n",
      "                    Open          High           Low         Close  \\\n",
      "Date                                                                 \n",
      "2022-04-12  13584.690430  13685.950195  13317.740234  13371.570312   \n",
      "2022-04-13  13373.120117  13679.429688  13353.660156  13643.589844   \n",
      "2022-04-14  13647.429688  13662.929688  13345.219727  13351.080078   \n",
      "2022-04-15  13647.429688  13662.929688  13345.219727  13351.080078   \n",
      "2022-04-18  13319.389648  13414.269531  13222.030273  13332.360352   \n",
      "\n",
      "                  Volume  \n",
      "Date                      \n",
      "2022-04-12  4.965220e+09  \n",
      "2022-04-13  4.887660e+09  \n",
      "2022-04-14  4.623410e+09  \n",
      "2022-04-15  4.623410e+09  \n",
      "2022-04-18  4.350150e+09  \n"
     ]
    }
   ],
   "source": [
    "print (df_comp.head()) # Displaying the first 5 elements to make sure the data was scraped correctly\n",
    "print (df_comp.tail()) # Making sure the last day we're including in the series are correct"
   ]
  },
  {
   "cell_type": "code",
   "execution_count": 27,
   "metadata": {
    "pycharm": {
     "name": "#%%\n"
    }
   },
   "outputs": [],
   "source": [
    "df_comp.to_csv(f'data/NASDAQ.csv', index=True)"
   ]
  },
  {
   "cell_type": "code",
   "execution_count": null,
   "metadata": {
    "pycharm": {
     "name": "#%%\n"
    }
   },
   "outputs": [],
   "source": []
  }
 ],
 "metadata": {
  "kernelspec": {
   "display_name": "PythonData",
   "language": "python",
   "name": "pythondata"
  },
  "language_info": {
   "codemirror_mode": {
    "name": "ipython",
    "version": 3
   },
   "file_extension": ".py",
   "mimetype": "text/x-python",
   "name": "python",
   "nbconvert_exporter": "python",
   "pygments_lexer": "ipython3",
   "version": "3.7.11"
  }
 },
 "nbformat": 4,
 "nbformat_minor": 4
}